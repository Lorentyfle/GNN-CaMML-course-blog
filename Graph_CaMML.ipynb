{
 "cells": [
  {
   "cell_type": "markdown",
   "metadata": {},
   "source": [
    "# Graph neural network - CaMML course"
   ]
  },
  {
   "cell_type": "markdown",
   "metadata": {},
   "source": [
    "# Introduction"
   ]
  },
  {
   "cell_type": "code",
   "execution_count": null,
   "metadata": {},
   "outputs": [],
   "source": []
  },
  {
   "cell_type": "markdown",
   "metadata": {},
   "source": [
    "# Graph theory"
   ]
  },
  {
   "cell_type": "code",
   "execution_count": null,
   "metadata": {},
   "outputs": [],
   "source": []
  },
  {
   "cell_type": "markdown",
   "metadata": {},
   "source": [
    "# How to do a GNN?"
   ]
  },
  {
   "cell_type": "markdown",
   "metadata": {},
   "source": [
    "Thanks to this approach we can transform the theory into an useable algorithm.\n",
    "\n",
    "To do so, we will take the time to build piece by piece our own GNN in this section. \n",
    "\n",
    "First of all, we need to have access to a sufficient amount of data to train our GNN, for this, the __[Material Project](https://legacy.materialsproject.org/)__ database will be used. Even if we could train our GNN upon any property, we will only focus on the prediction of the formation energy of the solid using its structure and its composition.\n",
    "\n",
    "The extraction and handeling of the data will be similar to what is shown in the [matminer tutorial](https://github.com/hackingmaterials/matminer_examples/blob/main/matminer_examples/)."
   ]
  },
  {
   "cell_type": "code",
   "execution_count": 105,
   "metadata": {},
   "outputs": [],
   "source": [
    "# Here we will take some libraries to construct the neural-networks using torch.\n",
    "import torch\n",
    "import torch.nn as nn\n",
    "from torch.utils.data import DataLoader, random_split\n",
    "\n",
    "# Here are some diverse modules and functions necessary.\n",
    "import random\n",
    "import time\n",
    "\n",
    "import matplotlib.pyplot as plt\n",
    "import networkx as nx\n",
    "import numpy as np\n",
    "import pandas as pd\n",
    "\n",
    "# ASE and pymatgen modules\n",
    "from pymatgen.io.ase import AseAtomsAdaptor\n",
    "from ase.neighborlist import neighbor_list\n",
    "\n",
    "# matminer\n",
    "# Be mindful that the MPDataRetrieval only works for the old MP data base!\n",
    "from matminer.data_retrieval.retrieve_MP import MPDataRetrieval"
   ]
  },
  {
   "cell_type": "markdown",
   "metadata": {},
   "source": [
    "## Data aquisition"
   ]
  },
  {
   "cell_type": "code",
   "execution_count": 2,
   "metadata": {},
   "outputs": [],
   "source": [
    "# To ensure a reproducible results, we put the same random seed.\n",
    "SEED = 42\n",
    "random.seed(SEED)\n",
    "np.random.seed(SEED)\n",
    "torch.manual_seed(SEED)\n",
    "torch.cuda.manual_seed(SEED)\n",
    "torch.backends.cudnn.deterministic = True"
   ]
  },
  {
   "cell_type": "code",
   "execution_count": null,
   "metadata": {},
   "outputs": [
    {
     "name": "stderr",
     "output_type": "stream",
     "text": [
      "You are using the legacy MPRester. This version of the MPRester will no longer be updated. To access the latest data with the new MPRester, obtain a new API key from https://materialsproject.org/api and consult the docs at https://docs.materialsproject.org/ for more information.\n"
     ]
    }
   ],
   "source": [
    "mpdr = MPDataRetrieval(\"\") # I am using MP because the other one crashes and I have enough of waiting 1h just for it to crash."
   ]
  },
  {
   "cell_type": "code",
   "execution_count": null,
   "metadata": {},
   "outputs": [
    {
     "name": "stderr",
     "output_type": "stream",
     "text": [
      "100%|██████████| 126335/126335 [11:25<00:00, 184.28it/s]\n"
     ]
    }
   ],
   "source": [
    "# Can be long (~10min to grab all the necesary 126335 datas).\n",
    "df = mpdr.get_dataframe(criteria={}, properties=['formation_energy_per_atom', 'pretty_formula',\"structure\"])"
   ]
  },
  {
   "cell_type": "markdown",
   "metadata": {},
   "source": [
    "Now that the data base is ready, with only three columns needed to train our GNN upon:\n",
    " - The composition\n",
    " - The structure\n",
    " - The formation energy (the property we wish to predict)\n",
    " "
   ]
  },
  {
   "cell_type": "code",
   "execution_count": 40,
   "metadata": {},
   "outputs": [
    {
     "data": {
      "text/html": [
       "<div>\n",
       "<style scoped>\n",
       "    .dataframe tbody tr th:only-of-type {\n",
       "        vertical-align: middle;\n",
       "    }\n",
       "\n",
       "    .dataframe tbody tr th {\n",
       "        vertical-align: top;\n",
       "    }\n",
       "\n",
       "    .dataframe thead th {\n",
       "        text-align: right;\n",
       "    }\n",
       "</style>\n",
       "<table border=\"1\" class=\"dataframe\">\n",
       "  <thead>\n",
       "    <tr style=\"text-align: right;\">\n",
       "      <th></th>\n",
       "      <th>formation_energy_per_atom</th>\n",
       "      <th>pretty_formula</th>\n",
       "      <th>structure</th>\n",
       "    </tr>\n",
       "    <tr>\n",
       "      <th>material_id</th>\n",
       "      <th></th>\n",
       "      <th></th>\n",
       "      <th></th>\n",
       "    </tr>\n",
       "  </thead>\n",
       "  <tbody>\n",
       "    <tr>\n",
       "      <th>mp-1001788</th>\n",
       "      <td>-0.020860</td>\n",
       "      <td>ZrB6</td>\n",
       "      <td>[[0. 0. 0.] Zr, [0.80207057 2.029387   2.02938...</td>\n",
       "    </tr>\n",
       "    <tr>\n",
       "      <th>mp-1002206</th>\n",
       "      <td>0.537123</td>\n",
       "      <td>SiC</td>\n",
       "      <td>[[0. 0. 0.] Si, [2.0251 2.0251 2.0251] C]</td>\n",
       "    </tr>\n",
       "    <tr>\n",
       "      <th>mp-1004524</th>\n",
       "      <td>0.234287</td>\n",
       "      <td>HPbI3</td>\n",
       "      <td>[[3.1221065 3.1221065 3.1221065] H, [0. 0. 0.]...</td>\n",
       "    </tr>\n",
       "    <tr>\n",
       "      <th>mp-1008492</th>\n",
       "      <td>-0.349239</td>\n",
       "      <td>BrCl</td>\n",
       "      <td>[[0. 0. 0.] Br, [0.        0.        3.9053505...</td>\n",
       "    </tr>\n",
       "    <tr>\n",
       "      <th>mp-1011260</th>\n",
       "      <td>-2.517135</td>\n",
       "      <td>EuFeO3</td>\n",
       "      <td>[[ 2.747224    2.72097164 -1.9501425 ] Eu, [5....</td>\n",
       "    </tr>\n",
       "    <tr>\n",
       "      <th>...</th>\n",
       "      <td>...</td>\n",
       "      <td>...</td>\n",
       "      <td>...</td>\n",
       "    </tr>\n",
       "    <tr>\n",
       "      <th>mvc-5634</th>\n",
       "      <td>-2.022086</td>\n",
       "      <td>Ca2CuIrO6</td>\n",
       "      <td>[[3.15778709 8.03614231 5.77105139] Ca, [0.340...</td>\n",
       "    </tr>\n",
       "    <tr>\n",
       "      <th>mvc-6019</th>\n",
       "      <td>-1.619846</td>\n",
       "      <td>Zn(SnO2)2</td>\n",
       "      <td>[[ 0.         11.36829898  1.84505467] Zn, [0....</td>\n",
       "    </tr>\n",
       "    <tr>\n",
       "      <th>mvc-8011</th>\n",
       "      <td>-1.584384</td>\n",
       "      <td>ZnFeAs2O7</td>\n",
       "      <td>[[0.71270026 8.84632777 7.89206318] Zn, [5.112...</td>\n",
       "    </tr>\n",
       "    <tr>\n",
       "      <th>mvc-8692</th>\n",
       "      <td>-2.438346</td>\n",
       "      <td>CaSb2(PO5)2</td>\n",
       "      <td>[[0.0143334 3.136694  4.121839 ] Ca, [5.866293...</td>\n",
       "    </tr>\n",
       "    <tr>\n",
       "      <th>mvc-9599</th>\n",
       "      <td>-1.458839</td>\n",
       "      <td>Ca(CuO2)2</td>\n",
       "      <td>[[0.30846523 0.         0.10485072] Ca, [9.270...</td>\n",
       "    </tr>\n",
       "  </tbody>\n",
       "</table>\n",
       "<p>126335 rows × 3 columns</p>\n",
       "</div>"
      ],
      "text/plain": [
       "             formation_energy_per_atom  ...                                          structure\n",
       "material_id                             ...                                                   \n",
       "mp-1001788                   -0.020860  ...  [[0. 0. 0.] Zr, [0.80207057 2.029387   2.02938...\n",
       "mp-1002206                    0.537123  ...          [[0. 0. 0.] Si, [2.0251 2.0251 2.0251] C]\n",
       "mp-1004524                    0.234287  ...  [[3.1221065 3.1221065 3.1221065] H, [0. 0. 0.]...\n",
       "mp-1008492                   -0.349239  ...  [[0. 0. 0.] Br, [0.        0.        3.9053505...\n",
       "mp-1011260                   -2.517135  ...  [[ 2.747224    2.72097164 -1.9501425 ] Eu, [5....\n",
       "...                                ...  ...                                                ...\n",
       "mvc-5634                     -2.022086  ...  [[3.15778709 8.03614231 5.77105139] Ca, [0.340...\n",
       "mvc-6019                     -1.619846  ...  [[ 0.         11.36829898  1.84505467] Zn, [0....\n",
       "mvc-8011                     -1.584384  ...  [[0.71270026 8.84632777 7.89206318] Zn, [5.112...\n",
       "mvc-8692                     -2.438346  ...  [[0.0143334 3.136694  4.121839 ] Ca, [5.866293...\n",
       "mvc-9599                     -1.458839  ...  [[0.30846523 0.         0.10485072] Ca, [9.270...\n",
       "\n",
       "[126335 rows x 3 columns]"
      ]
     },
     "execution_count": 40,
     "metadata": {},
     "output_type": "execute_result"
    }
   ],
   "source": [
    "df"
   ]
  },
  {
   "cell_type": "markdown",
   "metadata": {},
   "source": [
    "If we then look at the repartition of the *formation energy per atom* in function of the database, we have the histogram below."
   ]
  },
  {
   "cell_type": "code",
   "execution_count": 44,
   "metadata": {},
   "outputs": [
    {
     "data": {
      "text/plain": [
       "[Text(0.5, 0, '$\\\\mathrm{E}_\\\\mathrm{f}/\\\\mathrm{atom}$'),\n",
       " Text(0, 0.5, 'Number of examples')]"
      ]
     },
     "execution_count": 44,
     "metadata": {},
     "output_type": "execute_result"
    },
    {
     "data": {
      "image/png": "[encoded data removed]",
      "text/plain": [
       "<Figure size 640x480 with 1 Axes>"
      ]
     },
     "metadata": {},
     "output_type": "display_data"
    }
   ],
   "source": [
    "fig, ax = plt.subplots()\n",
    "ax.hist(df[\"formation_energy_per_atom\"], bins=100)\n",
    "ax.set(xlabel=\"$\\mathrm{E}_\\mathrm{f}/\\mathrm{atom}$\", ylabel=\"Number of examples\")"
   ]
  },
  {
   "cell_type": "markdown",
   "metadata": {},
   "source": [
    "## Transforming the data into a graph."
   ]
  },
  {
   "cell_type": "markdown",
   "metadata": {},
   "source": [
    "    Transforming a structure into a graph.\n",
    "\n",
    "At last we have a curated database in function of the target property, the formation energy.\n",
    "\n",
    "Yet, we still lacks a graph representation of the structure using node and edges. To do so, we can say that each atoms of each structures are a **node** and, their neigbhor the **edges**.\n",
    "\n",
    "    Encoding information.\n",
    "\n",
    "As the edge and the node is defined, one last step still remains before the data is ready, we need to encode some informations inside the node and the edge to allow the machine learning to know the difference in between a Li next to an O and a I next to a Fe.\n",
    "\n",
    "\n",
    "_Where can we encode the information?_\n",
    "\n",
    "Saving information inside the node seems very intuitive because we simply say that one node is one atom, such that the information of the atom type seems obvious.\n",
    "\n",
    "As for the interactions, we can store this information inside the edges of the node, this is the **edge embedding**.\n",
    "\n",
    "The simplest edge embedding would be the atomic connexion; yet, we can also store further informations like the bond length, the bond angle, etc...\n",
    "\n",
    "Here we will be modest and only keep the atomic connexion and the bond length as edge features (similar to a crystal graph convolutional neural networks)."
   ]
  },
  {
   "cell_type": "markdown",
   "metadata": {},
   "source": [
    "### The Node: Encoding the nature of the atom"
   ]
  },
  {
   "cell_type": "markdown",
   "metadata": {},
   "source": [
    "To encode the nature of the atom, one simple way would be to make an array of 118 entries (for each atoms), then put a 1 where this atom is inside the periodic table of elements.\n",
    "\n",
    "This method called *one hot encoding* is here useful because it will reduce drastically the memory needed to identify the data base while being really easy to read."
   ]
  },
  {
   "cell_type": "code",
   "execution_count": null,
   "metadata": {},
   "outputs": [],
   "source": [
    "def one_hot_encode_z(atomic_number:int):\n",
    "    \"\"\"We return a onehot encoding of the periodic table of elements, inputting the Z number gives the good onehot encoding for the atom in question.\"\"\"\n",
    "    vector = np.zeros(118)\n",
    "    vector[atomic_number-1] = 1\n",
    "    return vector"
   ]
  },
  {
   "cell_type": "code",
   "execution_count": 96,
   "metadata": {},
   "outputs": [
    {
     "name": "stdout",
     "output_type": "stream",
     "text": [
      "tensor(1., dtype=torch.float64)\n",
      "tensor([0., 0., 0., 0., 0., 0., 0., 0., 0., 0., 0., 0., 0., 0., 0., 0., 0., 0.,\n",
      "        0., 0., 0., 0., 0., 0., 0., 0., 0., 0., 0., 0., 0., 0., 0., 0., 0., 0.,\n",
      "        0., 0., 0., 1., 0., 0., 0., 0., 0., 0., 0., 0., 0., 0., 0., 0., 0., 0.,\n",
      "        0., 0., 0., 0., 0., 0., 0., 0., 0., 0., 0., 0., 0., 0., 0., 0., 0., 0.,\n",
      "        0., 0., 0., 0., 0., 0., 0., 0., 0., 0., 0., 0., 0., 0., 0., 0., 0., 0.,\n",
      "        0., 0., 0., 0., 0., 0., 0., 0., 0., 0., 0., 0., 0., 0., 0., 0., 0., 0.,\n",
      "        0., 0., 0., 0., 0., 0., 0., 0., 0., 0.], dtype=torch.float64)\n"
     ]
    }
   ],
   "source": [
    "node_features = torch.tensor([one_hot_encode_z(site.species.elements[0].Z) for site in df[\"structure\"].iloc[0]])\n",
    "# Here our atom is Zr with Z=40, so we look at the 39th place to find it back.\n",
    "print(node_features[0][39])\n",
    "print(node_features[0])"
   ]
  },
  {
   "cell_type": "markdown",
   "metadata": {},
   "source": [
    "### The Edge : Keeping track of the atom connexions."
   ]
  },
  {
   "cell_type": "markdown",
   "metadata": {},
   "source": [
    "Keeping track of the atom connexion is not as hard has one may think. Indeed, we can simply use a prebuilt function inside [`ase`](https://wiki.fysik.dtu.dk/ase/) to output the list of neighboring connexions and their length given a cutoff radius."
   ]
  },
  {
   "cell_type": "code",
   "execution_count": 116,
   "metadata": {},
   "outputs": [],
   "source": [
    "cutoff_radius = 4 # Angstrom"
   ]
  },
  {
   "cell_type": "code",
   "execution_count": 117,
   "metadata": {},
   "outputs": [
    {
     "data": {
      "text/plain": [
       "Cell([4.058774, 4.058774, 4.058774])"
      ]
     },
     "execution_count": 117,
     "metadata": {},
     "output_type": "execute_result"
    }
   ],
   "source": [
    "atoms = AseAtomsAdaptor.get_atoms(df[\"structure\"].iloc[0])\n",
    "edge_src, edge_dst, edge_len = neighbor_list(\n",
    "                \"ijd\", atoms, cutoff=cutoff_radius, self_interaction=False\n",
    "            )\n",
    "# Cell parameter of atoms\n",
    "atoms.cell"
   ]
  },
  {
   "cell_type": "markdown",
   "metadata": {},
   "source": [
    "The three variables show the origin of the bond, its destination and the length.\n",
    "In fact, if we visualize the graph of the connections it becomes evident that for such a crystal structure with cell parameters almost equal to $4 \\AA$, each of the atoms will be connected."
   ]
  },
  {
   "cell_type": "code",
   "execution_count": 128,
   "metadata": {},
   "outputs": [
    {
     "data": {
      "image/png": "[encoded data removed]",
      "text/plain": [
       "<Figure size 640x480 with 1 Axes>"
      ]
     },
     "metadata": {},
     "output_type": "display_data"
    }
   ],
   "source": [
    "G = nx.Graph()\n",
    "for s1, s2 in zip(edge_src, edge_dst):\n",
    "    G.add_edge(s1, s2)\n",
    "nx.draw(G, with_labels=True, node_color='lightblue', node_size=700, font_size=12)\n",
    "plt.show()"
   ]
  },
  {
   "cell_type": "markdown",
   "metadata": {},
   "source": [
    "### The Edge : Length of the connexion."
   ]
  },
  {
   "cell_type": "markdown",
   "metadata": {},
   "source": [
    "We have the connexions and the length so, what are we waiting for?\n",
    "\n",
    "In fact, it would not be wise to use the bond length value for the connexion, a single value would not be enough for the GNN to assess a pattern with distances while having a good description of the environment.\n",
    "\n",
    "One way would be to embbed the edges using a basis set of gaussians that will describe the space in between $0$ and $4 \\AA$, in which the bond length will be mapped."
   ]
  },
  {
   "cell_type": "code",
   "execution_count": 178,
   "metadata": {},
   "outputs": [],
   "source": [
    "# How many gaussian to describe this space?\n",
    "number_of_gaussians = 80"
   ]
  },
  {
   "cell_type": "code",
   "execution_count": 179,
   "metadata": {},
   "outputs": [],
   "source": [
    "# one hot encode bond length using gaussians.\n",
    "filter = np.linspace(0, cutoff_radius, number_of_gaussians)\n",
    "edge_feat = np.exp(\n",
    "    -((edge_len[..., None] - filter) ** 2) / (filter[1] - filter[0]) ** 2\n",
    ")"
   ]
  },
  {
   "cell_type": "markdown",
   "metadata": {},
   "source": [
    "## Storing the data"
   ]
  },
  {
   "cell_type": "markdown",
   "metadata": {},
   "source": [
    "Once we did all of this, we can try to store all this informations inside a big class that"
   ]
  },
  {
   "cell_type": "markdown",
   "metadata": {},
   "source": []
  },
  {
   "cell_type": "markdown",
   "metadata": {},
   "source": [
    "## Making the GNN"
   ]
  },
  {
   "cell_type": "markdown",
   "metadata": {},
   "source": [
    "- Where are the nodes and edges?\n",
    "- Need to split the datas in function of composition in between train, validation and test.\n",
    "- Need to do batches of the datas.\n",
    "\n",
    "- run the entire GNN code to see if it is working as expected with the new inputs.\n",
    "\n",
    "- Create GNN \"step by step\"."
   ]
  },
  {
   "cell_type": "markdown",
   "metadata": {},
   "source": [
    "## --- DRAFT ---"
   ]
  },
  {
   "cell_type": "code",
   "execution_count": null,
   "metadata": {},
   "outputs": [],
   "source": [
    "# To ensure a reproducible results, we put the same random seed.\n",
    "\n",
    "SEED = 42\n",
    "\n",
    "random.seed(SEED)\n",
    "np.random.seed(SEED)\n",
    "torch.manual_seed(SEED)\n",
    "torch.cuda.manual_seed(SEED)\n",
    "torch.backends.cudnn.deterministic = True\n",
    "\n",
    "# We will also take the matbench data base log_gvrh data set with 10,987 VRH-average shear moduli calculated using DFT. As a starting data base for training and testing the GNN we will create in this section.\n",
    "\n",
    "dataset = MaterialsDataset(\n",
    "    \"./inputs/bulk-modulus-dataset.json\",\n",
    "    cutoff=4,  # cutoff radius for finding neighbours\n",
    "    num_gaussians=40,  # number of gaussians in edge embedding\n",
    ")\n",
    "# Sample of the data to visualise it.\n",
    "sample = dataset[10]\n",
    "# You can visualise one of structure that was sampled.\n",
    "# Here, we can see the crystal structure in the left and the graph this crystal structure will provide on the right:\n",
    "plot_sample(sample)\n",
    "\n",
    "# From here we split the data set into a training and a validation data set.\n",
    "train_set, valid_set, test_set = random_split(dataset, [0.8, 0.1, 0.1])\n",
    "print(f'Number of training examples: {len(train_set)}')\n",
    "print(f'Number of validation examples: {len(valid_set)}')\n",
    "print(f'Number of testing examples: {len(test_set)}')"
   ]
  },
  {
   "cell_type": "markdown",
   "metadata": {},
   "source": [
    "Now that we have selected data treatment "
   ]
  },
  {
   "cell_type": "code",
   "execution_count": null,
   "metadata": {},
   "outputs": [],
   "source": [
    "# Now the data is splitted into batches to make the datas more manageable to compute.\n",
    "# collate_fn allows to automatically handle grouping multiple graphs into a batch.\n",
    "BATCH_SIZE = 32\n",
    "\n",
    "# Training part of the data.\n",
    "train_loader = DataLoader(\n",
    "    train_set, batch_size=BATCH_SIZE, collate_fn=collate_fn, shuffle=True,\n",
    ")\n",
    "# Validation part of the data.\n",
    "valid_loader = DataLoader(\n",
    "    valid_set, batch_size=BATCH_SIZE, collate_fn=collate_fn,\n",
    ")\n",
    "# Testing part of the data.\n",
    "test_loader = DataLoader(\n",
    "    test_set, batch_size=BATCH_SIZE, collate_fn=collate_fn,\n",
    ")"
   ]
  },
  {
   "cell_type": "markdown",
   "metadata": {},
   "source": [
    "### Convolution"
   ]
  },
  {
   "cell_type": "code",
   "execution_count": null,
   "metadata": {},
   "outputs": [],
   "source": [
    "# I first need to do convolution\n",
    "# EXPLAIN WHY\n",
    "# EXPLAIN ALL THE STEPS\n",
    "class GraphConvolution(nn.Module):\n",
    "    \n",
    "    def __init__(self, node_feat_dim, edge_feat_dim):\n",
    "        \"\"\"\n",
    "        Convolutional layer for graphs.\n",
    "        \n",
    "        Parameters\n",
    "        ----------\n",
    "        node_feat_dim : int\n",
    "          Number of node features.\n",
    "        edge_feat_dim : int\n",
    "          Number of edge features.\n",
    "        \"\"\"\n",
    "        super().__init__()\n",
    "\n",
    "        # linear layer used for the gated MLP\n",
    "        self.lin1 = nn.Linear(\n",
    "            2 * node_feat_dim + edge_feat_dim,\n",
    "            2 * node_feat_dim,\n",
    "        )\n",
    "\n",
    "        # normalisation layers\n",
    "        self.bn1 = nn.BatchNorm1d(2 * node_feat_dim)\n",
    "        self.bn2 = nn.BatchNorm1d(node_feat_dim)\n",
    "\n",
    "    def forward(self, node_feat, edge_feat, edge_src, edge_dst):\n",
    "        \"\"\"Perform the convolution.\n",
    "\n",
    "        Parameters\n",
    "        ----------\n",
    "        node_feat : Tensor\n",
    "            The node features.\n",
    "        edge_feat : Tensor\n",
    "            The edge features\n",
    "        edge_src : Tensor\n",
    "            The indices of the central nodes for the edges.\n",
    "        edge_dst : Tensor\n",
    "            The indices of the desintation nodes for the edges.\n",
    "        \"\"\"\n",
    "        # concatenate node and edge features\n",
    "        m = torch.cat([node_feat[edge_src], node_feat[edge_dst], edge_feat], dim=1)\n",
    "\n",
    "        # gated MLP\n",
    "        z = self.lin1(m)\n",
    "        z = self.bn1(z)\n",
    "        z1, z2 = z.chunk(2, dim=1)\n",
    "        z1 = nn.Sigmoid()(z1)\n",
    "        z2 = nn.Softplus()(z2)\n",
    "        z = z1 * z2\n",
    "\n",
    "        # pool features\n",
    "        z = scatter_sum(z, edge_src, dim=0, dim_size=node_feat.shape[0])\n",
    "        \n",
    "        # pass through normalisation layer\n",
    "        return nn.Softplus()(self.bn2(z) + node_feat)\n",
    "\n",
    "\n",
    "# Then I do CGCNN \n",
    "# WHY\n",
    "# EXPLAIN ALL THE LINES.\n",
    "class CGCNN(nn.Module):\n",
    "    def __init__(\n",
    "        self,\n",
    "        node_feat_dim,\n",
    "        edge_feat_dim,\n",
    "        node_hidden_dim=64,\n",
    "        num_graph_conv_layers=3,\n",
    "        fc_feat_dim=128\n",
    "    ):\n",
    "        \"\"\"\n",
    "        Crystal Graph Convolutional Neural Network \n",
    "\n",
    "        Parameters\n",
    "        ----------\n",
    "        node_feat_dim : int\n",
    "          Number of initial node features from one-hot encoding.\n",
    "        edge_feat_dim : int\n",
    "          Number of bond features.\n",
    "        node_hidden_dim : int\n",
    "          The number of features in the node embedding.\n",
    "        num_graph_conv_layers: int\n",
    "          Number of convolutional layers.\n",
    "        fc_feat_dim: int\n",
    "          Number of hidden features after pooling.\n",
    "        \"\"\"\n",
    "        super().__init__()\n",
    "\n",
    "        # dense layer to transform one-hot encoded node features to embedding\n",
    "        self.embedding = nn.Linear(node_feat_dim, node_hidden_dim)\n",
    "\n",
    "        # set up the convolutions\n",
    "        convs = []\n",
    "        for _ in range(num_graph_conv_layers):\n",
    "            convs.append(GraphConvolution(node_feat_dim=node_hidden_dim, edge_feat_dim=edge_feat_dim))\n",
    "        self.convs = nn.ModuleList(convs)\n",
    "\n",
    "        # dense layer to turn final node embeddings to the crystal features\n",
    "        self.conv_to_fc = nn.Sequential(\n",
    "           nn.Linear(node_hidden_dim, fc_feat_dim), nn.Softplus()\n",
    "        )\n",
    "\n",
    "        # dense layer to get the final target value\n",
    "        self.fc_out = nn.Linear(fc_feat_dim, 1)\n",
    "\n",
    "    def forward(self, batch):\n",
    "        \"\"\"\n",
    "        Predict the target property given a batch of data.\n",
    "\n",
    "        Parameters\n",
    "        ----------\n",
    "        batch : Batch\n",
    "            The data to pass through the network.\n",
    "        \"\"\"\n",
    "        # get initial node embedding\n",
    "        node_feat = self.embedding(batch.node_feat)\n",
    "\n",
    "        # apply convolutions\n",
    "        for conv_func in self.convs:\n",
    "            node_feat = conv_func(node_feat, batch.edge_feat, batch.edge_src, batch.edge_dst)\n",
    "\n",
    "        # pool node vectors\n",
    "        crys_feat = scatter_mean(node_feat, batch.batch, dim=0, dim_size=batch.batch.max() + 1)\n",
    "\n",
    "        # pass pooled vector through FC layer with activation\n",
    "        crys_feat = self.conv_to_fc(crys_feat)\n",
    "\n",
    "        # pass crystal features through final fully-connected layer\n",
    "        return self.fc_out(crys_feat)"
   ]
  },
  {
   "cell_type": "markdown",
   "metadata": {},
   "source": [
    "# Application: Use of GNN to run an MD."
   ]
  },
  {
   "cell_type": "code",
   "execution_count": null,
   "metadata": {},
   "outputs": [],
   "source": []
  }
 ],
 "metadata": {
  "kernelspec": {
   "display_name": ".venv",
   "language": "python",
   "name": "python3"
  },
  "language_info": {
   "codemirror_mode": {
    "name": "ipython",
    "version": 3
   },
   "file_extension": ".py",
   "mimetype": "text/x-python",
   "name": "python",
   "nbconvert_exporter": "python",
   "pygments_lexer": "ipython3",
   "version": "3.10.12"
  }
 },
 "nbformat": 4,
 "nbformat_minor": 2
}
